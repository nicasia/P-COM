{
 "cells": [
  {
   "cell_type": "code",
   "execution_count": 1,
   "metadata": {},
   "outputs": [],
   "source": [
    "import networkx as nx\n",
    "import algorithm_helpers as algs\n",
    "\n",
    "import os\n",
    "import copy\n",
    "import numpy as np\n",
    "import pandas as pd\n",
    "from sklearn.metrics import adjusted_rand_score\n",
    "\n",
    "from matplotlib import pyplot as plt\n",
    "import seaborn as sns\n",
    "\n",
    "\n",
    "%matplotlib inline"
   ]
  },
  {
   "cell_type": "markdown",
   "metadata": {},
   "source": [
    "### Helper functions:"
   ]
  },
  {
   "cell_type": "code",
   "execution_count": 2,
   "metadata": {},
   "outputs": [],
   "source": [
    "def reverse_dict(dic, assume_unique=False):\n",
    "    newdict = {}\n",
    "    for val in np.unique(list(dic.values())):\n",
    "        newdict[val] = np.array([k for k,v in dic.items() if v == val])\n",
    "        if assume_unique:\n",
    "            newdict[val] = newdict[val][0]\n",
    "    return newdict"
   ]
  },
  {
   "cell_type": "markdown",
   "metadata": {},
   "source": [
    "## Inputs: Specify gene sets"
   ]
  },
  {
   "cell_type": "code",
   "execution_count": 4,
   "metadata": {},
   "outputs": [],
   "source": [
    "acronym_to_folder = {\"KEGG\": \"c2.all.v7.0.symbols_JustK\", \"REACTOME\":\"c2.all.v7.0.symbols_JustR\",\n",
    "                  \"GO_BP\": \"c5.bp.v7.0.symbols_SHORT\", \"GO_CC\": \"c5.cc.v7.0.symbols\", \"GO_MF\": \"c5.mf.v7.0.symbols\"}\n",
    "folder_to_acronym = reverse_dict(acronym_to_folder, assume_unique = True)\n",
    "gsets_folders = ['c2.all.v7.0.symbols_JustK', 'c2.all.v7.0.symbols_JustR', 'c5.bp.v7.0.symbols_SHORT', 'c5.mf.v7.0.symbols']\n",
    "gsets_acronyms = [folder_to_acronym[x] for x in gsets_folders]"
   ]
  },
  {
   "cell_type": "markdown",
   "metadata": {},
   "source": [
    "## Load adjacency matrices"
   ]
  },
  {
   "cell_type": "code",
   "execution_count": 5,
   "metadata": {},
   "outputs": [],
   "source": [
    "pathways = {}\n",
    "pway_indices = {}\n",
    "\n",
    "cur_idx = 0\n",
    "for foldername in gsets_folders:\n",
    "    name = folder_to_acronym[foldername]\n",
    "    pathways[name] = np.loadtxt('adj_matrices/%s/pathway_names.txt'%foldername, dtype=str)\n",
    "    pway_indices[name] = np.arange(cur_idx, cur_idx + len(pathways[name])).astype(int)\n",
    "    cur_idx += len(pathways[name])\n",
    "    \n",
    "total_num_pathways = np.sum([len(x) for x in pathways.values()])"
   ]
  },
  {
   "cell_type": "code",
   "execution_count": 6,
   "metadata": {},
   "outputs": [
    {
     "name": "stdout",
     "output_type": "stream",
     "text": [
      "c2.all.v7.0.symbols_JustK\n",
      "\t c2.all.v7.0.symbols_JustK 186\n",
      "\t c2.all.v7.0.symbols_JustK c2.all.v7.0.symbols_JustR\n",
      "\t c2.all.v7.0.symbols_JustK c5.bp.v7.0.symbols_SHORT\n",
      "\t c2.all.v7.0.symbols_JustK c5.mf.v7.0.symbols\n",
      "c2.all.v7.0.symbols_JustR\n",
      "\ttransposed! c2.all.v7.0.symbols_JustR c2.all.v7.0.symbols_JustK\n",
      "\t c2.all.v7.0.symbols_JustR 1499\n",
      "\t c2.all.v7.0.symbols_JustR c5.bp.v7.0.symbols_SHORT\n",
      "\t c2.all.v7.0.symbols_JustR c5.mf.v7.0.symbols\n",
      "c5.bp.v7.0.symbols_SHORT\n",
      "\ttransposed! c5.bp.v7.0.symbols_SHORT c2.all.v7.0.symbols_JustK\n",
      "\ttransposed! c5.bp.v7.0.symbols_SHORT c2.all.v7.0.symbols_JustR\n",
      "\t c5.bp.v7.0.symbols_SHORT 1517\n",
      "\t c5.bp.v7.0.symbols_SHORT c5.mf.v7.0.symbols\n",
      "c5.mf.v7.0.symbols\n",
      "\ttransposed! c5.mf.v7.0.symbols c2.all.v7.0.symbols_JustK\n",
      "\ttransposed! c5.mf.v7.0.symbols c2.all.v7.0.symbols_JustR\n",
      "\ttransposed! c5.mf.v7.0.symbols c5.bp.v7.0.symbols_SHORT\n",
      "\t c5.mf.v7.0.symbols 1645\n"
     ]
    }
   ],
   "source": [
    "pvals_allrows = []\n",
    "odds_ratios_all_rows = []\n",
    "for i, foldername1 in enumerate(gsets_folders):\n",
    "    print(foldername1)\n",
    "    \n",
    "    pvals_row_blocks = []\n",
    "    odds_ratios_row_blocks = []\n",
    "\n",
    "    for j, foldername2 in enumerate(gsets_folders):\n",
    "\n",
    "        if foldername1 == foldername2:\n",
    "            print(\"\\t\",foldername1, len(np.loadtxt(\"adj_matrices/%s/pathway_names.txt\"%foldername1, dtype=str)))\n",
    "            pvals_row_blocks.append(np.loadtxt(\"adj_matrices/%s/pvals.txt\"%foldername1))\n",
    "            odds_ratios_row_blocks.append(np.loadtxt(\"adj_matrices/%s/odd_ratios.txt\"%foldername1))\n",
    "\n",
    "        # rows and cols match up with file we read in\n",
    "        elif \"%s--%s\"%(foldername1, foldername2) in os.listdir(\"adj_matrices/offdiagonal/\"):\n",
    "            print(\"\\t\", foldername1, foldername2)\n",
    "            pvals_row_blocks.append(np.loadtxt(\"adj_matrices/offdiagonal/%s--%s/pvals.txt\"%(foldername1, foldername2)))\n",
    "            odds_ratios_row_blocks.append(np.loadtxt(\"adj_matrices/offdiagonal/%s--%s/odd_ratios.txt\"%(foldername1, foldername2)))\n",
    "            \n",
    "        # need to transpose\n",
    "        elif \"%s--%s\"%(foldername2, foldername1) in os.listdir(\"adj_matrices/offdiagonal/\"):\n",
    "            print(\"\\ttransposed!\", foldername1, foldername2)\n",
    "            pvals_row_blocks.append(np.loadtxt(\"adj_matrices/offdiagonal/%s--%s/pvals.txt\"%(foldername2, foldername1)).T)\n",
    "            odds_ratios_row_blocks.append(np.loadtxt(\"adj_matrices/offdiagonal/%s--%s/odd_ratios.txt\"%(foldername2, foldername1)).T)\n",
    "   \n",
    "        else:\n",
    "            print(\"MISSING MATRIX: %s vs %s\"%(foldername1, foldername2))\n",
    "    pvals_allrows.append(np.hstack(pvals_row_blocks))\n",
    "    odds_ratios_all_rows.append(np.hstack(odds_ratios_row_blocks))\n",
    "    \n",
    "    \n",
    "pvals = np.vstack(pvals_allrows)\n",
    "odds_ratios = np.vstack(odds_ratios_all_rows)\n",
    "pathway_names = np.hstack([pathways[name] for name in gsets_acronyms])"
   ]
  },
  {
   "cell_type": "markdown",
   "metadata": {},
   "source": [
    "## Community detection"
   ]
  },
  {
   "cell_type": "code",
   "execution_count": 7,
   "metadata": {},
   "outputs": [
    {
     "name": "stderr",
     "output_type": "stream",
     "text": [
      "/homes/gws/nbbwang/anaconda3/envs/py36-test2/lib/python3.7/site-packages/ipykernel_launcher.py:2: RuntimeWarning: divide by zero encountered in log10\n",
      "  \n"
     ]
    }
   ],
   "source": [
    "pvals[pvals == 0] = np.min(pvals[np.nonzero(pvals)]) / 10\n",
    "weights =  -1 * np.log10(pvals)\n",
    "weights[np.isnan(weights)] = 0.0\n",
    "weights[np.isinf(weights)] = 0.0\n",
    "weights[weights == 0] = 0.0\n",
    "weights_df = pd.DataFrame(weights.astype(float), index=pathway_names, columns=pathway_names)\n",
    "G_with_weights = nx.from_numpy_matrix(weights_df.values)"
   ]
  },
  {
   "cell_type": "code",
   "execution_count": 8,
   "metadata": {},
   "outputs": [],
   "source": [
    "res = 0.4"
   ]
  },
  {
   "cell_type": "code",
   "execution_count": 9,
   "metadata": {},
   "outputs": [],
   "source": [
    "import algorithm_helpers as algs\n",
    "\n",
    "hyperparameters = {\n",
    "\"Louvain\": {\"resolution\": res},\n",
    "}\n",
    "\n",
    "coms = algs.get_labels_louvain(G_with_weights, **hyperparameters[\"Louvain\"])\n"
   ]
  },
  {
   "cell_type": "code",
   "execution_count": 10,
   "metadata": {},
   "outputs": [
    {
     "data": {
      "text/plain": [
       "(array([ 7., 11.,  5.,  5.,  3.,  1.,  0.,  1.,  1.,  1.]),\n",
       " array([  4. ,  53.9, 103.8, 153.7, 203.6, 253.5, 303.4, 353.3, 403.2,\n",
       "        453.1, 503. ]),\n",
       " <a list of 10 Patch objects>)"
      ]
     },
     "execution_count": 10,
     "metadata": {},
     "output_type": "execute_result"
    },
    {
     "data": {
      "image/png": "[encoded data removed]",
      "text/plain": [
       "<Figure size 432x288 with 1 Axes>"
      ]
     },
     "metadata": {
      "needs_background": "light"
     },
     "output_type": "display_data"
    }
   ],
   "source": [
    "plt.hist(np.unique(coms, return_counts=True)[1])"
   ]
  },
  {
   "cell_type": "code",
   "execution_count": 35,
   "metadata": {},
   "outputs": [],
   "source": [
    "coms_df = pd.DataFrame(coms, index = pathway_names)\n"
   ]
  },
  {
   "cell_type": "code",
   "execution_count": 14,
   "metadata": {},
   "outputs": [
    {
     "data": {
      "text/html": [
       "<div>\n",
       "<style scoped>\n",
       "    .dataframe tbody tr th:only-of-type {\n",
       "        vertical-align: middle;\n",
       "    }\n",
       "\n",
       "    .dataframe tbody tr th {\n",
       "        vertical-align: top;\n",
       "    }\n",
       "\n",
       "    .dataframe thead th {\n",
       "        text-align: right;\n",
       "    }\n",
       "</style>\n",
       "<table border=\"1\" class=\"dataframe\">\n",
       "  <thead>\n",
       "    <tr style=\"text-align: right;\">\n",
       "      <th></th>\n",
       "      <th>0</th>\n",
       "    </tr>\n",
       "  </thead>\n",
       "  <tbody>\n",
       "    <tr>\n",
       "      <th>KEGG_GLYCOLYSIS_GLUCONEOGENESIS</th>\n",
       "      <td>0</td>\n",
       "    </tr>\n",
       "    <tr>\n",
       "      <th>KEGG_CITRATE_CYCLE_TCA_CYCLE</th>\n",
       "      <td>0</td>\n",
       "    </tr>\n",
       "    <tr>\n",
       "      <th>KEGG_PENTOSE_PHOSPHATE_PATHWAY</th>\n",
       "      <td>1</td>\n",
       "    </tr>\n",
       "    <tr>\n",
       "      <th>KEGG_PENTOSE_AND_GLUCURONATE_INTERCONVERSIONS</th>\n",
       "      <td>0</td>\n",
       "    </tr>\n",
       "    <tr>\n",
       "      <th>KEGG_FRUCTOSE_AND_MANNOSE_METABOLISM</th>\n",
       "      <td>1</td>\n",
       "    </tr>\n",
       "    <tr>\n",
       "      <th>KEGG_GALACTOSE_METABOLISM</th>\n",
       "      <td>1</td>\n",
       "    </tr>\n",
       "    <tr>\n",
       "      <th>KEGG_ASCORBATE_AND_ALDARATE_METABOLISM</th>\n",
       "      <td>0</td>\n",
       "    </tr>\n",
       "    <tr>\n",
       "      <th>KEGG_FATTY_ACID_METABOLISM</th>\n",
       "      <td>0</td>\n",
       "    </tr>\n",
       "    <tr>\n",
       "      <th>KEGG_STEROID_BIOSYNTHESIS</th>\n",
       "      <td>0</td>\n",
       "    </tr>\n",
       "    <tr>\n",
       "      <th>KEGG_PRIMARY_BILE_ACID_BIOSYNTHESIS</th>\n",
       "      <td>0</td>\n",
       "    </tr>\n",
       "    <tr>\n",
       "      <th>KEGG_STEROID_HORMONE_BIOSYNTHESIS</th>\n",
       "      <td>0</td>\n",
       "    </tr>\n",
       "    <tr>\n",
       "      <th>KEGG_OXIDATIVE_PHOSPHORYLATION</th>\n",
       "      <td>0</td>\n",
       "    </tr>\n",
       "    <tr>\n",
       "      <th>KEGG_PURINE_METABOLISM</th>\n",
       "      <td>2</td>\n",
       "    </tr>\n",
       "    <tr>\n",
       "      <th>KEGG_PYRIMIDINE_METABOLISM</th>\n",
       "      <td>2</td>\n",
       "    </tr>\n",
       "    <tr>\n",
       "      <th>KEGG_ALANINE_ASPARTATE_AND_GLUTAMATE_METABOLISM</th>\n",
       "      <td>0</td>\n",
       "    </tr>\n",
       "    <tr>\n",
       "      <th>KEGG_GLYCINE_SERINE_AND_THREONINE_METABOLISM</th>\n",
       "      <td>0</td>\n",
       "    </tr>\n",
       "    <tr>\n",
       "      <th>KEGG_CYSTEINE_AND_METHIONINE_METABOLISM</th>\n",
       "      <td>0</td>\n",
       "    </tr>\n",
       "    <tr>\n",
       "      <th>KEGG_VALINE_LEUCINE_AND_ISOLEUCINE_DEGRADATION</th>\n",
       "      <td>0</td>\n",
       "    </tr>\n",
       "    <tr>\n",
       "      <th>KEGG_VALINE_LEUCINE_AND_ISOLEUCINE_BIOSYNTHESIS</th>\n",
       "      <td>3</td>\n",
       "    </tr>\n",
       "    <tr>\n",
       "      <th>KEGG_LYSINE_DEGRADATION</th>\n",
       "      <td>0</td>\n",
       "    </tr>\n",
       "    <tr>\n",
       "      <th>KEGG_ARGININE_AND_PROLINE_METABOLISM</th>\n",
       "      <td>0</td>\n",
       "    </tr>\n",
       "    <tr>\n",
       "      <th>KEGG_HISTIDINE_METABOLISM</th>\n",
       "      <td>0</td>\n",
       "    </tr>\n",
       "    <tr>\n",
       "      <th>KEGG_TYROSINE_METABOLISM</th>\n",
       "      <td>0</td>\n",
       "    </tr>\n",
       "    <tr>\n",
       "      <th>KEGG_PHENYLALANINE_METABOLISM</th>\n",
       "      <td>0</td>\n",
       "    </tr>\n",
       "    <tr>\n",
       "      <th>KEGG_TRYPTOPHAN_METABOLISM</th>\n",
       "      <td>0</td>\n",
       "    </tr>\n",
       "    <tr>\n",
       "      <th>KEGG_BETA_ALANINE_METABOLISM</th>\n",
       "      <td>0</td>\n",
       "    </tr>\n",
       "    <tr>\n",
       "      <th>KEGG_TAURINE_AND_HYPOTAURINE_METABOLISM</th>\n",
       "      <td>0</td>\n",
       "    </tr>\n",
       "    <tr>\n",
       "      <th>KEGG_SELENOAMINO_ACID_METABOLISM</th>\n",
       "      <td>0</td>\n",
       "    </tr>\n",
       "    <tr>\n",
       "      <th>KEGG_GLUTATHIONE_METABOLISM</th>\n",
       "      <td>0</td>\n",
       "    </tr>\n",
       "    <tr>\n",
       "      <th>KEGG_STARCH_AND_SUCROSE_METABOLISM</th>\n",
       "      <td>0</td>\n",
       "    </tr>\n",
       "    <tr>\n",
       "      <th>...</th>\n",
       "      <td>...</td>\n",
       "    </tr>\n",
       "    <tr>\n",
       "      <th>GO_CARBOHYDRATE_DERIVATIVE_TRANSMEMBRANE_TRANSPORTER_ACTIVITY</th>\n",
       "      <td>10</td>\n",
       "    </tr>\n",
       "    <tr>\n",
       "      <th>GO_FATTY_ACID_DERIVATIVE_BINDING</th>\n",
       "      <td>0</td>\n",
       "    </tr>\n",
       "    <tr>\n",
       "      <th>GO_PHOSPHATIDYLGLYCEROL_BINDING</th>\n",
       "      <td>8</td>\n",
       "    </tr>\n",
       "    <tr>\n",
       "      <th>GO_CARDIOLIPIN_BINDING</th>\n",
       "      <td>8</td>\n",
       "    </tr>\n",
       "    <tr>\n",
       "      <th>GO_VOLTAGE_GATED_POTASSIUM_CHANNEL_ACTIVITY_INVOLVED_IN_VENTRICULAR_CARDIAC_MUSCLE_CELL_ACTION_POTENTIAL_REPOLARIZATION</th>\n",
       "      <td>10</td>\n",
       "    </tr>\n",
       "    <tr>\n",
       "      <th>GO_CERAMIDE_1_PHOSPHATE_BINDING</th>\n",
       "      <td>8</td>\n",
       "    </tr>\n",
       "    <tr>\n",
       "      <th>GO_CUPROUS_ION_BINDING</th>\n",
       "      <td>29</td>\n",
       "    </tr>\n",
       "    <tr>\n",
       "      <th>GO_MRNA_BINDING_INVOLVED_IN_POSTTRANSCRIPTIONAL_GENE_SILENCING</th>\n",
       "      <td>19</td>\n",
       "    </tr>\n",
       "    <tr>\n",
       "      <th>GO_S_ADENOSYL_L_METHIONINE_BINDING</th>\n",
       "      <td>32</td>\n",
       "    </tr>\n",
       "    <tr>\n",
       "      <th>GO_PEPTIDE_TRANSMEMBRANE_TRANSPORTER_ACTIVITY</th>\n",
       "      <td>10</td>\n",
       "    </tr>\n",
       "    <tr>\n",
       "      <th>GO_CORECEPTOR_ACTIVITY_INVOLVED_IN_WNT_SIGNALING_PATHWAY_PLANAR_CELL_POLARITY_PATHWAY</th>\n",
       "      <td>1</td>\n",
       "    </tr>\n",
       "    <tr>\n",
       "      <th>GO_POLYSOME_BINDING</th>\n",
       "      <td>4</td>\n",
       "    </tr>\n",
       "    <tr>\n",
       "      <th>GO_PHOSPHATIDIC_ACID_TRANSPORTER_ACTIVITY</th>\n",
       "      <td>10</td>\n",
       "    </tr>\n",
       "    <tr>\n",
       "      <th>GO_HISTONE_METHYLTRANSFERASE_BINDING</th>\n",
       "      <td>32</td>\n",
       "    </tr>\n",
       "    <tr>\n",
       "      <th>GO_STEROID_HORMONE_BINDING</th>\n",
       "      <td>10</td>\n",
       "    </tr>\n",
       "    <tr>\n",
       "      <th>GO_N6_METHYLADENOSINE_CONTAINING_RNA_BINDING</th>\n",
       "      <td>4</td>\n",
       "    </tr>\n",
       "    <tr>\n",
       "      <th>GO_KERATIN_FILAMENT_BINDING</th>\n",
       "      <td>2</td>\n",
       "    </tr>\n",
       "    <tr>\n",
       "      <th>GO_LYS48_SPECIFIC_DEUBIQUITINASE_ACTIVITY</th>\n",
       "      <td>16</td>\n",
       "    </tr>\n",
       "    <tr>\n",
       "      <th>GO_PROTEIN_ADP_RIBOSYLASE_ACTIVITY</th>\n",
       "      <td>1</td>\n",
       "    </tr>\n",
       "    <tr>\n",
       "      <th>GO_PROTEIN_ANTIGEN_BINDING</th>\n",
       "      <td>25</td>\n",
       "    </tr>\n",
       "    <tr>\n",
       "      <th>GO_EXTRACELLULAR_MATRIX_PROTEIN_BINDING</th>\n",
       "      <td>22</td>\n",
       "    </tr>\n",
       "    <tr>\n",
       "      <th>GO_U1_SNRNP_BINDING</th>\n",
       "      <td>5</td>\n",
       "    </tr>\n",
       "    <tr>\n",
       "      <th>GO_TRANSFERRIN_RECEPTOR_BINDING</th>\n",
       "      <td>17</td>\n",
       "    </tr>\n",
       "    <tr>\n",
       "      <th>GO_PROTEIN_BINDING_BRIDGING_INVOLVED_IN_SUBSTRATE_RECOGNITION_FOR_UBIQUITINATION</th>\n",
       "      <td>16</td>\n",
       "    </tr>\n",
       "    <tr>\n",
       "      <th>GO_ARRESTIN_FAMILY_PROTEIN_BINDING</th>\n",
       "      <td>13</td>\n",
       "    </tr>\n",
       "    <tr>\n",
       "      <th>GO_RNA_ADENYLYLTRANSFERASE_ACTIVITY</th>\n",
       "      <td>5</td>\n",
       "    </tr>\n",
       "    <tr>\n",
       "      <th>GO_SEQUENCE_SPECIFIC_MRNA_BINDING</th>\n",
       "      <td>4</td>\n",
       "    </tr>\n",
       "    <tr>\n",
       "      <th>GO_SEQUENCE_SPECIFIC_DOUBLE_STRANDED_DNA_BINDING</th>\n",
       "      <td>26</td>\n",
       "    </tr>\n",
       "    <tr>\n",
       "      <th>GO_PROMOTER_SPECIFIC_CHROMATIN_BINDING</th>\n",
       "      <td>26</td>\n",
       "    </tr>\n",
       "    <tr>\n",
       "      <th>GO_UBIQUITIN_LIGASE_INHIBITOR_ACTIVITY</th>\n",
       "      <td>4</td>\n",
       "    </tr>\n",
       "  </tbody>\n",
       "</table>\n",
       "<p>4847 rows × 1 columns</p>\n",
       "</div>"
      ],
      "text/plain": [
       "                                                     0\n",
       "KEGG_GLYCOLYSIS_GLUCONEOGENESIS                      0\n",
       "KEGG_CITRATE_CYCLE_TCA_CYCLE                         0\n",
       "KEGG_PENTOSE_PHOSPHATE_PATHWAY                       1\n",
       "KEGG_PENTOSE_AND_GLUCURONATE_INTERCONVERSIONS        0\n",
       "KEGG_FRUCTOSE_AND_MANNOSE_METABOLISM                 1\n",
       "KEGG_GALACTOSE_METABOLISM                            1\n",
       "KEGG_ASCORBATE_AND_ALDARATE_METABOLISM               0\n",
       "KEGG_FATTY_ACID_METABOLISM                           0\n",
       "KEGG_STEROID_BIOSYNTHESIS                            0\n",
       "KEGG_PRIMARY_BILE_ACID_BIOSYNTHESIS                  0\n",
       "KEGG_STEROID_HORMONE_BIOSYNTHESIS                    0\n",
       "KEGG_OXIDATIVE_PHOSPHORYLATION                       0\n",
       "KEGG_PURINE_METABOLISM                               2\n",
       "KEGG_PYRIMIDINE_METABOLISM                           2\n",
       "KEGG_ALANINE_ASPARTATE_AND_GLUTAMATE_METABOLISM      0\n",
       "KEGG_GLYCINE_SERINE_AND_THREONINE_METABOLISM         0\n",
       "KEGG_CYSTEINE_AND_METHIONINE_METABOLISM              0\n",
       "KEGG_VALINE_LEUCINE_AND_ISOLEUCINE_DEGRADATION       0\n",
       "KEGG_VALINE_LEUCINE_AND_ISOLEUCINE_BIOSYNTHESIS      3\n",
       "KEGG_LYSINE_DEGRADATION                              0\n",
       "KEGG_ARGININE_AND_PROLINE_METABOLISM                 0\n",
       "KEGG_HISTIDINE_METABOLISM                            0\n",
       "KEGG_TYROSINE_METABOLISM                             0\n",
       "KEGG_PHENYLALANINE_METABOLISM                        0\n",
       "KEGG_TRYPTOPHAN_METABOLISM                           0\n",
       "KEGG_BETA_ALANINE_METABOLISM                         0\n",
       "KEGG_TAURINE_AND_HYPOTAURINE_METABOLISM              0\n",
       "KEGG_SELENOAMINO_ACID_METABOLISM                     0\n",
       "KEGG_GLUTATHIONE_METABOLISM                          0\n",
       "KEGG_STARCH_AND_SUCROSE_METABOLISM                   0\n",
       "...                                                 ..\n",
       "GO_CARBOHYDRATE_DERIVATIVE_TRANSMEMBRANE_TRANSP...  10\n",
       "GO_FATTY_ACID_DERIVATIVE_BINDING                     0\n",
       "GO_PHOSPHATIDYLGLYCEROL_BINDING                      8\n",
       "GO_CARDIOLIPIN_BINDING                               8\n",
       "GO_VOLTAGE_GATED_POTASSIUM_CHANNEL_ACTIVITY_INV...  10\n",
       "GO_CERAMIDE_1_PHOSPHATE_BINDING                      8\n",
       "GO_CUPROUS_ION_BINDING                              29\n",
       "GO_MRNA_BINDING_INVOLVED_IN_POSTTRANSCRIPTIONAL...  19\n",
       "GO_S_ADENOSYL_L_METHIONINE_BINDING                  32\n",
       "GO_PEPTIDE_TRANSMEMBRANE_TRANSPORTER_ACTIVITY       10\n",
       "GO_CORECEPTOR_ACTIVITY_INVOLVED_IN_WNT_SIGNALIN...   1\n",
       "GO_POLYSOME_BINDING                                  4\n",
       "GO_PHOSPHATIDIC_ACID_TRANSPORTER_ACTIVITY           10\n",
       "GO_HISTONE_METHYLTRANSFERASE_BINDING                32\n",
       "GO_STEROID_HORMONE_BINDING                          10\n",
       "GO_N6_METHYLADENOSINE_CONTAINING_RNA_BINDING         4\n",
       "GO_KERATIN_FILAMENT_BINDING                          2\n",
       "GO_LYS48_SPECIFIC_DEUBIQUITINASE_ACTIVITY           16\n",
       "GO_PROTEIN_ADP_RIBOSYLASE_ACTIVITY                   1\n",
       "GO_PROTEIN_ANTIGEN_BINDING                          25\n",
       "GO_EXTRACELLULAR_MATRIX_PROTEIN_BINDING             22\n",
       "GO_U1_SNRNP_BINDING                                  5\n",
       "GO_TRANSFERRIN_RECEPTOR_BINDING                     17\n",
       "GO_PROTEIN_BINDING_BRIDGING_INVOLVED_IN_SUBSTRA...  16\n",
       "GO_ARRESTIN_FAMILY_PROTEIN_BINDING                  13\n",
       "GO_RNA_ADENYLYLTRANSFERASE_ACTIVITY                  5\n",
       "GO_SEQUENCE_SPECIFIC_MRNA_BINDING                    4\n",
       "GO_SEQUENCE_SPECIFIC_DOUBLE_STRANDED_DNA_BINDING    26\n",
       "GO_PROMOTER_SPECIFIC_CHROMATIN_BINDING              26\n",
       "GO_UBIQUITIN_LIGASE_INHIBITOR_ACTIVITY               4\n",
       "\n",
       "[4847 rows x 1 columns]"
      ]
     },
     "execution_count": 14,
     "metadata": {},
     "output_type": "execute_result"
    }
   ],
   "source": [
    "coms_df"
   ]
  },
  {
   "cell_type": "markdown",
   "metadata": {},
   "source": [
    "### Checking consistency with our paper's results:\n",
    "In Supplementary Figure 5, we show the consistency of the Louvain algorithm across 100 random initializations. The median pairwise NMI between runs was .84, and the minimum across all pairs was .77. Below, we compute the NMI between the current run and the saved result presented in the paper:"
   ]
  },
  {
   "cell_type": "code",
   "execution_count": 28,
   "metadata": {},
   "outputs": [],
   "source": [
    "from sklearn.metrics.cluster import normalized_mutual_info_score\n",
    "saved_coms = pd.read_csv(\"Full_graph_louvain_with_weights_community_labels/0.4/labels.tsv\", sep = '\\t')"
   ]
  },
  {
   "cell_type": "code",
   "execution_count": 33,
   "metadata": {
    "scrolled": false
   },
   "outputs": [
    {
     "name": "stdout",
     "output_type": "stream",
     "text": [
      "NMI (consistency) between saved result and the current result: 0.852\n"
     ]
    },
    {
     "name": "stderr",
     "output_type": "stream",
     "text": [
      "/homes/gws/nbbwang/anaconda3/envs/py36-test2/lib/python3.7/site-packages/sklearn/metrics/cluster/supervised.py:859: FutureWarning: The behavior of NMI will change in version 0.22. To match the behavior of 'v_measure_score', NMI will use average_method='arithmetic' by default.\n",
      "  FutureWarning)\n"
     ]
    }
   ],
   "source": [
    "print(\"NMI (consistency) between saved result and the current result: %.3f\"%normalized_mutual_info_score (saved_coms[\"0\"].values, coms_df[0].values))"
   ]
  },
  {
   "cell_type": "markdown",
   "metadata": {},
   "source": [
    "### Saving the results:\n",
    "To overwrite the saved results, uncomment the saving code below"
   ]
  },
  {
   "cell_type": "code",
   "execution_count": 37,
   "metadata": {},
   "outputs": [],
   "source": [
    "# coms_df.to_csv(\"Full_graph_louvain_with_weights_community_labels/0.4/labels.tsv\", sep = '\\t')"
   ]
  }
 ],
 "metadata": {
  "kernelspec": {
   "display_name": "Python [conda env:py36-test2]",
   "language": "python",
   "name": "conda-env-py36-test2-py"
  },
  "language_info": {
   "codemirror_mode": {
    "name": "ipython",
    "version": 3
   },
   "file_extension": ".py",
   "mimetype": "text/x-python",
   "name": "python",
   "nbconvert_exporter": "python",
   "pygments_lexer": "ipython3",
   "version": "3.7.5"
  }
 },
 "nbformat": 4,
 "nbformat_minor": 4
}
