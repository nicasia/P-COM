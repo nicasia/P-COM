{
 "cells": [
  {
   "cell_type": "markdown",
   "metadata": {},
   "source": [
    "### Overview:\n",
    "\n",
    "In this notebook, we show how we compute summary information about each community:\n",
    "- Hubness:  For each community, we compute the hubness of each of its member pathways. This gives us a sense of which pathways may have the most relevance to the others\n",
    "- KMer labels: Here, we perform the algorithm described in our paper to annotate each community with top-occuring k-mers across the pathways' names. \n",
    "\n",
    "Information computed here is displayed in figures in the paper, as well as on the website. "
   ]
  },
  {
   "cell_type": "code",
   "execution_count": 10,
   "metadata": {},
   "outputs": [],
   "source": [
    "import networkx as nx\n",
    "import numpy as np\n",
    "import os\n",
    "import numpy as np\n",
    "import pandas as pd\n",
    "import re\n",
    "import nltk\n",
    "from nltk.corpus import stopwords\n",
    "import string\n",
    "\n",
    "import utils"
   ]
  },
  {
   "cell_type": "markdown",
   "metadata": {},
   "source": [
    "### Helper functions:"
   ]
  },
  {
   "cell_type": "code",
   "execution_count": 2,
   "metadata": {},
   "outputs": [],
   "source": [
    "def text_to_words(text, added_stop_words, removed_stop_words):\n",
    "    # tokens = word_tokenize(text)\n",
    "    tokens = re.split('-|_| ',text)\n",
    "    # convert to upper case\n",
    "    tokens = [w.upper() for w in tokens]\n",
    "\n",
    "    # remove punctuation from each word\n",
    "    table = str.maketrans('', '', string.punctuation)\n",
    "    stripped = [w.translate(table) for w in tokens]\n",
    "    \n",
    "    # remove remaining tokens that are not alphabetic\n",
    "    words = [word for word in stripped if word.isalnum()]\n",
    "    \n",
    "    # filter out stop words\n",
    "    stop_words = set(stopwords.words('english'))\n",
    "    for w in added_stop_words:\n",
    "        stop_words.add(w.lower())\n",
    "    for w in removed_stop_words:\n",
    "        stop_words.remove(w.lower())\n",
    "    words = [w for w in words if not w.lower() in stop_words]\n",
    "    \n",
    "    return words\n",
    "\n",
    "def get_kmers(string, k, sep='-|_| ', return_short=True, \n",
    "              added_stop_words=[\"KEGG\", \"REACTOME\", \"GO\"], removed_stop_words=[\"up\", \"down\"]):\n",
    "    \n",
    "    stringslist = text_to_words(string, added_stop_words, removed_stop_words)\n",
    "    kmers = []\n",
    "    for i in range(len(stringslist)-k+1):\n",
    "        kmers.append(\" \".join(stringslist[i:i+k]))\n",
    "    if (len(kmers)>0) or (not return_short):\n",
    "        return kmers\n",
    "    else:\n",
    "        return([\" \".join(stringslist)])\n",
    "    \n",
    "    \n"
   ]
  },
  {
   "cell_type": "markdown",
   "metadata": {},
   "source": [
    "## Load gene sets"
   ]
  },
  {
   "cell_type": "code",
   "execution_count": 3,
   "metadata": {},
   "outputs": [],
   "source": [
    "acronym_to_folder = {\"KEGG\": \"c2.all.v7.0.symbols_JustK\", \"REACTOME\":\"c2.all.v7.0.symbols_JustR\",\n",
    "                  \"GO_BP\": \"c5.bp.v7.0.symbols_SHORT\", \"GO_CC\": \"c5.cc.v7.0.symbols\", \"GO_MF\": \"c5.mf.v7.0.symbols\"}\n",
    "folder_to_acronym = utils.reverse_dict(acronym_to_folder, assume_unique = True)\n",
    "\n",
    "pway_subfolders =  'c2.all.v7.0.symbols_JustK-c2.all.v7.0.symbols_JustR-c5.bp.v7.0.symbols_SHORT-c5.mf.v7.0.symbols'\n",
    "\n",
    "gsets_folders = pway_subfolders.split(\"-\")\n",
    "gsets_acronyms = [folder_to_acronym[x] for x in gsets_folders]"
   ]
  },
  {
   "cell_type": "code",
   "execution_count": 4,
   "metadata": {},
   "outputs": [],
   "source": [
    "pathways = {}\n",
    "pway_indices = {}\n",
    "\n",
    "cur_idx = 0\n",
    "for foldername in gsets_folders:\n",
    "    name = folder_to_acronym[foldername]\n",
    "    pathways[name] = np.loadtxt('../adj_matrices/%s/pathway_names.txt'%foldername, dtype=str)\n",
    "    pway_indices[name] = np.arange(cur_idx, cur_idx + len(pathways[name])).astype(int)\n",
    "    cur_idx += len(pathways[name])\n",
    "    \n",
    "pathway_names = np.hstack([pathways[name] for name in gsets_acronyms])\n",
    "\n",
    "coms_labels_file = \"../Full_graph_louvain_with_weights_community_labels/0.4/labels.tsv\"\n",
    "new_com_df = pd.read_csv(coms_labels_file, delimiter=\"\\t\", names=[\"pathways\", \"com\"])\n",
    "new_com_df = new_com_df.merge(pd.DataFrame(pathway_names.reshape(len(pathway_names),1), columns=[\"pathways\"]), how=\"right\", on=\"pathways\")\n",
    "coms = new_com_df[\"com\"].values"
   ]
  },
  {
   "cell_type": "markdown",
   "metadata": {},
   "source": [
    "### Load curated labels"
   ]
  },
  {
   "cell_type": "code",
   "execution_count": 5,
   "metadata": {},
   "outputs": [
    {
     "name": "stdout",
     "output_type": "stream",
     "text": [
      "Number of true categories:  38\n",
      "[ 1.  3.  4.  5.  6.  7.  8.  9. 16. 17. 21. 22. 23. 24. 25. 26. 27. 28.\n",
      " 29. 30. 31. 32. 34. 35. 36. 37. 38. 39. 40. 41. 42. 43. 44. 45. 54. 55.\n",
      " 56. 57.]\n",
      "Number of true categories:  27\n",
      "[ 0.  1.  2.  3.  4.  5.  6.  7.  8.  9. 10. 11. 12. 13. 14. 15. 16. 17.\n",
      " 18. 19. 20. 21. 22. 23. 24. 25. 26.]\n",
      "Number of true categories:  64\n",
      "[ 0.  1.  2.  3.  4.  5.  6.  7.  8.  9. 10. 11. 12. 13. 14. 15. 16. 17.\n",
      " 18. 19. 20. 21. 22. 23. 24. 25. 26. 27. 28. 29. 30. 31. 32. 33. 34. 35.\n",
      " 36. 37. 38. 39. 40. 41. 42. 43. 44. 45. 46. 47. 48. 49. 50. 51. 52. 53.\n",
      " 54. 55. 56. 57. 58. 59. 60. 61. 62. 63.]\n",
      "Number of true categories:  69\n",
      "[ 0.  1.  2.  3.  4.  5.  6.  7.  8.  9. 10. 11. 12. 13. 14. 15. 16. 17.\n",
      " 18. 19. 20. 21. 22. 23. 24. 25. 26. 27. 28. 29. 30. 31. 32. 33. 34. 35.\n",
      " 36. 37. 38. 39. 40. 41. 42. 43. 44. 45. 46. 47. 48. 49. 50. 51. 52. 53.\n",
      " 54. 55. 56. 57. 58. 59. 60. 61. 62. 63. 64. 65. 66. 67. 68.]\n"
     ]
    }
   ],
   "source": [
    "gmts, true_labels_unique, true_labels, true_labels_names= utils.load_curated_labels(pway_dbs=gsets_acronyms)\n",
    "pathway_names_curated_categories =  np.hstack([true_labels_names[name] for name in gsets_acronyms])"
   ]
  },
  {
   "cell_type": "markdown",
   "metadata": {},
   "source": [
    "### Load graph & get within-community hubness for members"
   ]
  },
  {
   "cell_type": "code",
   "execution_count": 6,
   "metadata": {},
   "outputs": [
    {
     "name": "stdout",
     "output_type": "stream",
     "text": [
      "c2.all.v7.0.symbols_JustK\n",
      "\t c2.all.v7.0.symbols_JustK 186\n",
      "\t c2.all.v7.0.symbols_JustK c2.all.v7.0.symbols_JustR\n",
      "\t c2.all.v7.0.symbols_JustK c5.bp.v7.0.symbols_SHORT\n",
      "\t c2.all.v7.0.symbols_JustK c5.mf.v7.0.symbols\n",
      "c2.all.v7.0.symbols_JustR\n",
      "\ttransposed! c2.all.v7.0.symbols_JustR c2.all.v7.0.symbols_JustK\n",
      "\t c2.all.v7.0.symbols_JustR 1499\n",
      "\t c2.all.v7.0.symbols_JustR c5.bp.v7.0.symbols_SHORT\n",
      "\t c2.all.v7.0.symbols_JustR c5.mf.v7.0.symbols\n",
      "c5.bp.v7.0.symbols_SHORT\n",
      "\ttransposed! c5.bp.v7.0.symbols_SHORT c2.all.v7.0.symbols_JustK\n",
      "\ttransposed! c5.bp.v7.0.symbols_SHORT c2.all.v7.0.symbols_JustR\n",
      "\t c5.bp.v7.0.symbols_SHORT 1517\n",
      "\t c5.bp.v7.0.symbols_SHORT c5.mf.v7.0.symbols\n",
      "c5.mf.v7.0.symbols\n",
      "\ttransposed! c5.mf.v7.0.symbols c2.all.v7.0.symbols_JustK\n",
      "\ttransposed! c5.mf.v7.0.symbols c2.all.v7.0.symbols_JustR\n",
      "\ttransposed! c5.mf.v7.0.symbols c5.bp.v7.0.symbols_SHORT\n",
      "\t c5.mf.v7.0.symbols 1645\n"
     ]
    },
    {
     "name": "stderr",
     "output_type": "stream",
     "text": [
      "/homes/gws/nbbwang/pathway_communities_public/pipeline/combined_graph_analyses/utils.py:69: RuntimeWarning: divide by zero encountered in log10\n",
      "  weights =  -1 * np.log10(pvals)\n"
     ]
    }
   ],
   "source": [
    "weights = utils.load_graph_edges(gsets_folders, \"../adj_matrices\", pathways)"
   ]
  },
  {
   "cell_type": "code",
   "execution_count": 7,
   "metadata": {},
   "outputs": [
    {
     "name": "stdout",
     "output_type": "stream",
     "text": [
      "0\n",
      "5\n",
      "10\n",
      "15\n",
      "20\n",
      "25\n",
      "30\n"
     ]
    }
   ],
   "source": [
    "# FOR EACH COMMUNITY, CALCULATE HUBNESS OF MEMBERS IN THEIR SUBGRAPH\n",
    "hubs_dfs = []\n",
    "for com in np.unique(coms):\n",
    "    if com%5==0:print(com)\n",
    "    pway_idx = np.where(coms==com)\n",
    "    pways_in_com = pathway_names[pway_idx]\n",
    "\n",
    "    internal_weights = weights[pway_idx][:, pway_idx]\n",
    "    internal_weights = internal_weights.reshape((len(internal_weights), len(internal_weights)))\n",
    "    internal_G = nx.from_numpy_matrix(internal_weights)\n",
    "    weighted_g_hubs = nx.hits(internal_G)[0]\n",
    "    hubs_df = pd.DataFrame(weighted_g_hubs.values(), index=pways_in_com, columns=[\"hubness\"])\n",
    "    hubs_df.index.set_names(['pathway'], inplace=True)\n",
    "    hubs_dfs.append(hubs_df.reset_index())"
   ]
  },
  {
   "cell_type": "code",
   "execution_count": 8,
   "metadata": {},
   "outputs": [],
   "source": [
    "hubs_dfs_for_app = []\n",
    "for c,df in enumerate(hubs_dfs):\n",
    "    df[\"community\"]=c+1\n",
    "    hubs_dfs_for_app.append(df)\n",
    "    \n",
    "com_members_hubness_app = pd.concat(hubs_dfs).reset_index(drop=True)\n",
    "com_members_hubness_app.to_csv(\"appendix_tables/com_members_and_hubness_in_com.csv\", index=False)\n",
    "\n",
    "com_members_hubness_app[\"curated category\"] = pathway_names_curated_categories\n",
    "com_members_hubness_app.to_csv(\"appendix_tables/com_members_and_hubness_in_com_w_curated.csv\", index=False)"
   ]
  },
  {
   "cell_type": "code",
   "execution_count": 9,
   "metadata": {},
   "outputs": [
    {
     "data": {
      "text/html": [
       "<div>\n",
       "<style scoped>\n",
       "    .dataframe tbody tr th:only-of-type {\n",
       "        vertical-align: middle;\n",
       "    }\n",
       "\n",
       "    .dataframe tbody tr th {\n",
       "        vertical-align: top;\n",
       "    }\n",
       "\n",
       "    .dataframe thead th {\n",
       "        text-align: right;\n",
       "    }\n",
       "</style>\n",
       "<table border=\"1\" class=\"dataframe\">\n",
       "  <thead>\n",
       "    <tr style=\"text-align: right;\">\n",
       "      <th></th>\n",
       "      <th>pathway</th>\n",
       "      <th>hubness</th>\n",
       "      <th>community</th>\n",
       "      <th>curated category</th>\n",
       "    </tr>\n",
       "  </thead>\n",
       "  <tbody>\n",
       "    <tr>\n",
       "      <td>0</td>\n",
       "      <td>KEGG_GLYCOLYSIS_GLUCONEOGENESIS</td>\n",
       "      <td>0.001784</td>\n",
       "      <td>1</td>\n",
       "      <td>Carbohydrate metabolism</td>\n",
       "    </tr>\n",
       "    <tr>\n",
       "      <td>1</td>\n",
       "      <td>KEGG_CITRATE_CYCLE_TCA_CYCLE</td>\n",
       "      <td>0.002442</td>\n",
       "      <td>1</td>\n",
       "      <td>Carbohydrate metabolism</td>\n",
       "    </tr>\n",
       "    <tr>\n",
       "      <td>2</td>\n",
       "      <td>KEGG_PENTOSE_AND_GLUCURONATE_INTERCONVERSIONS</td>\n",
       "      <td>0.001103</td>\n",
       "      <td>1</td>\n",
       "      <td>Carbohydrate metabolism</td>\n",
       "    </tr>\n",
       "    <tr>\n",
       "      <td>3</td>\n",
       "      <td>KEGG_ASCORBATE_AND_ALDARATE_METABOLISM</td>\n",
       "      <td>0.001244</td>\n",
       "      <td>1</td>\n",
       "      <td>Carbohydrate metabolism</td>\n",
       "    </tr>\n",
       "    <tr>\n",
       "      <td>4</td>\n",
       "      <td>KEGG_FATTY_ACID_METABOLISM</td>\n",
       "      <td>0.002164</td>\n",
       "      <td>1</td>\n",
       "      <td>Carbohydrate metabolism</td>\n",
       "    </tr>\n",
       "  </tbody>\n",
       "</table>\n",
       "</div>"
      ],
      "text/plain": [
       "                                         pathway   hubness  community  \\\n",
       "0                KEGG_GLYCOLYSIS_GLUCONEOGENESIS  0.001784          1   \n",
       "1                   KEGG_CITRATE_CYCLE_TCA_CYCLE  0.002442          1   \n",
       "2  KEGG_PENTOSE_AND_GLUCURONATE_INTERCONVERSIONS  0.001103          1   \n",
       "3         KEGG_ASCORBATE_AND_ALDARATE_METABOLISM  0.001244          1   \n",
       "4                     KEGG_FATTY_ACID_METABOLISM  0.002164          1   \n",
       "\n",
       "          curated category  \n",
       "0  Carbohydrate metabolism  \n",
       "1  Carbohydrate metabolism  \n",
       "2  Carbohydrate metabolism  \n",
       "3  Carbohydrate metabolism  \n",
       "4  Carbohydrate metabolism  "
      ]
     },
     "execution_count": 9,
     "metadata": {},
     "output_type": "execute_result"
    }
   ],
   "source": [
    "com_members_hubness_app.head()"
   ]
  },
  {
   "cell_type": "markdown",
   "metadata": {},
   "source": [
    "### Identifying top k-mer labels for each community:"
   ]
  },
  {
   "cell_type": "code",
   "execution_count": 10,
   "metadata": {},
   "outputs": [],
   "source": [
    "def sorted_kmers(k, com):\n",
    "    pway_idx = np.where(coms==com)\n",
    "    pways_in_com = pathway_names[pway_idx]\n",
    "    \n",
    "    pathway_kmers = []\n",
    "    pway_kmer_df_names = []\n",
    "    for i,name in enumerate(pways_in_com):\n",
    "        kmers = get_kmers(name, k)\n",
    "        pathway_kmers += kmers\n",
    "        pway_kmer_df_names += len(kmers)*[name]\n",
    "\n",
    "    df = pd.DataFrame(np.vstack([pway_kmer_df_names, pathway_kmers]).T, columns=[\"pathway\", \"kmer\"])\n",
    "    df = df.merge(hubs_dfs[com], on=\"pathway\")\n",
    "\n",
    "    grouped_counts=df.groupby(['kmer']).size().to_frame('count').reset_index()\n",
    "    grouped_hubness=df[[\"kmer\", \"hubness\"]].groupby(\"kmer\").mean().reset_index()\n",
    "\n",
    "    kmers_df = grouped_hubness.merge(grouped_counts, on='kmer').sort_values([\"count\", \"hubness\"], ascending=False)\n",
    "    kmers_df = kmers_df[kmers_df[\"count\"] >= kmers_min_appearances]\n",
    "    kmers_df[\"k\"] = k\n",
    "    return kmers_df\n"
   ]
  },
  {
   "cell_type": "code",
   "execution_count": 11,
   "metadata": {},
   "outputs": [
    {
     "name": "stdout",
     "output_type": "stream",
     "text": [
      "Community 2: k=2\n",
      "Community 2: k=1\n",
      "Community 5: k=2\n",
      "Community 6: k=2\n",
      "Community 7: k=2\n",
      "Community 8: k=2\n",
      "Community 8: k=1\n",
      "Community 10: k=2\n",
      "Community 13: k=2\n",
      "Community 14: k=2\n",
      "Community 15: k=2\n",
      "Community 16: k=2\n",
      "Community 17: k=2\n",
      "Community 19: k=2\n",
      "Community 19: k=1\n",
      "Community 21: k=2\n",
      "Community 22: k=2\n",
      "Community 23: k=2\n",
      "Community 24: k=2\n",
      "Community 24: k=1\n",
      "Community 25: k=2\n",
      "Community 27: k=2\n",
      "Community 27: k=1\n",
      "Community 28: k=2\n",
      "Community 28: k=1\n",
      "Community 30: k=2\n",
      "Community 30: k=1\n",
      "Community 31: k=2\n",
      "Community 32: k=2\n",
      "Community 32: k=1\n",
      "Community 33: k=2\n",
      "Community 33: k=1\n",
      "Community 34: k=2\n",
      "Community 35: k=2\n",
      "Community 35: k=1\n"
     ]
    }
   ],
   "source": [
    "starting_k = 3\n",
    "kmers_min_appearances = 3\n",
    "num_rows_appendix = 10    \n",
    "\n",
    "kmer_pathways_dfs = []\n",
    "for com in np.unique(coms):\n",
    "    k = starting_k\n",
    "    kmers_df = sorted_kmers(k, com)\n",
    "    while len(kmers_df) < num_rows_appendix: \n",
    "        k -= 1\n",
    "        if k==0:\n",
    "            break\n",
    "        print(\"Community %i: k=%i\"%(com+1, k))\n",
    "        kmers_df = pd.concat([kmers_df,sorted_kmers(k, com)])\n",
    "    \n",
    "    kmers_df[\"community\"] = com+1\n",
    "    kmer_pathways_dfs.append(kmers_df[:num_rows_appendix]) \n"
   ]
  },
  {
   "cell_type": "code",
   "execution_count": 12,
   "metadata": {},
   "outputs": [],
   "source": [
    "kmers_for_web = pd.concat([x for x in kmer_pathways_dfs]).reset_index(drop=True)"
   ]
  },
  {
   "cell_type": "code",
   "execution_count": 13,
   "metadata": {},
   "outputs": [
    {
     "data": {
      "text/html": [
       "<div>\n",
       "<style scoped>\n",
       "    .dataframe tbody tr th:only-of-type {\n",
       "        vertical-align: middle;\n",
       "    }\n",
       "\n",
       "    .dataframe tbody tr th {\n",
       "        vertical-align: top;\n",
       "    }\n",
       "\n",
       "    .dataframe thead th {\n",
       "        text-align: right;\n",
       "    }\n",
       "</style>\n",
       "<table border=\"1\" class=\"dataframe\">\n",
       "  <thead>\n",
       "    <tr style=\"text-align: right;\">\n",
       "      <th></th>\n",
       "      <th>kmer</th>\n",
       "      <th>hubness</th>\n",
       "      <th>count</th>\n",
       "      <th>k</th>\n",
       "      <th>community</th>\n",
       "    </tr>\n",
       "  </thead>\n",
       "  <tbody>\n",
       "    <tr>\n",
       "      <td>0</td>\n",
       "      <td>OXIDOREDUCTASE ACTIVITY ACTING</td>\n",
       "      <td>0.003523</td>\n",
       "      <td>33</td>\n",
       "      <td>3</td>\n",
       "      <td>1</td>\n",
       "    </tr>\n",
       "    <tr>\n",
       "      <td>1</td>\n",
       "      <td>ACTIVITY ACTING CH</td>\n",
       "      <td>0.002293</td>\n",
       "      <td>11</td>\n",
       "      <td>3</td>\n",
       "      <td>1</td>\n",
       "    </tr>\n",
       "    <tr>\n",
       "      <td>2</td>\n",
       "      <td>NAD P H</td>\n",
       "      <td>0.006186</td>\n",
       "      <td>7</td>\n",
       "      <td>3</td>\n",
       "      <td>1</td>\n",
       "    </tr>\n",
       "    <tr>\n",
       "      <td>3</td>\n",
       "      <td>ACTING PAIRED DONORS</td>\n",
       "      <td>0.004708</td>\n",
       "      <td>7</td>\n",
       "      <td>3</td>\n",
       "      <td>1</td>\n",
       "    </tr>\n",
       "    <tr>\n",
       "      <td>4</td>\n",
       "      <td>ACTIVITY ACTING PAIRED</td>\n",
       "      <td>0.004708</td>\n",
       "      <td>7</td>\n",
       "      <td>3</td>\n",
       "      <td>1</td>\n",
       "    </tr>\n",
       "  </tbody>\n",
       "</table>\n",
       "</div>"
      ],
      "text/plain": [
       "                             kmer   hubness  count  k  community\n",
       "0  OXIDOREDUCTASE ACTIVITY ACTING  0.003523     33  3          1\n",
       "1              ACTIVITY ACTING CH  0.002293     11  3          1\n",
       "2                         NAD P H  0.006186      7  3          1\n",
       "3            ACTING PAIRED DONORS  0.004708      7  3          1\n",
       "4          ACTIVITY ACTING PAIRED  0.004708      7  3          1"
      ]
     },
     "execution_count": 13,
     "metadata": {},
     "output_type": "execute_result"
    }
   ],
   "source": [
    "kmers_for_web.head()"
   ]
  },
  {
   "cell_type": "code",
   "execution_count": 14,
   "metadata": {},
   "outputs": [],
   "source": [
    "# Supplementary table containing the top (up to) 10 kmers for each community\n",
    "kmers_for_web.to_csv(\"appendix_tables/all_kmers.csv\", index=False)"
   ]
  },
  {
   "cell_type": "markdown",
   "metadata": {},
   "source": [
    "### All kmers associated with any community\n",
    "We include this as a supplementary table; this is also used in our webpage for when users want to query a specific process"
   ]
  },
  {
   "cell_type": "code",
   "execution_count": 15,
   "metadata": {},
   "outputs": [],
   "source": [
    "starting_k = 3\n",
    "kmers_min_appearances = 3\n",
    "num_rows_appendix = 10    \n",
    "\n",
    "kmer_pathways_dfs_allk = []\n",
    "for com in np.unique(coms):\n",
    "    comsize = (coms==0).sum()\n",
    "\n",
    "    for k in range(1,starting_k+1):\n",
    "        kmers_df = sorted_kmers(k, com)\n",
    "        kmers_df[\"community\"] = com+1\n",
    "        kmers_df[\"count_fraction\"] = kmers_df[\"count\"]/comsize\n",
    "        kmer_pathways_dfs_allk.append(kmers_df) "
   ]
  },
  {
   "cell_type": "code",
   "execution_count": 18,
   "metadata": {},
   "outputs": [],
   "source": [
    "kmers_query_for_web = pd.concat([x for x in kmer_pathways_dfs_allk]).reset_index(drop=True)\n",
    "kmers_query_for_web.to_csv(\"appendix_tables/query_all_kmers.csv\", index=False)"
   ]
  },
  {
   "cell_type": "code",
   "execution_count": 19,
   "metadata": {},
   "outputs": [
    {
     "data": {
      "text/html": [
       "<div>\n",
       "<style scoped>\n",
       "    .dataframe tbody tr th:only-of-type {\n",
       "        vertical-align: middle;\n",
       "    }\n",
       "\n",
       "    .dataframe tbody tr th {\n",
       "        vertical-align: top;\n",
       "    }\n",
       "\n",
       "    .dataframe thead th {\n",
       "        text-align: right;\n",
       "    }\n",
       "</style>\n",
       "<table border=\"1\" class=\"dataframe\">\n",
       "  <thead>\n",
       "    <tr style=\"text-align: right;\">\n",
       "      <th></th>\n",
       "      <th>kmer</th>\n",
       "      <th>hubness</th>\n",
       "      <th>count</th>\n",
       "      <th>k</th>\n",
       "      <th>community</th>\n",
       "      <th>count_fraction</th>\n",
       "    </tr>\n",
       "  </thead>\n",
       "  <tbody>\n",
       "    <tr>\n",
       "      <td>0</td>\n",
       "      <td>ACTIVITY</td>\n",
       "      <td>0.001924</td>\n",
       "      <td>158</td>\n",
       "      <td>1</td>\n",
       "      <td>1</td>\n",
       "      <td>0.321138</td>\n",
       "    </tr>\n",
       "    <tr>\n",
       "      <td>1</td>\n",
       "      <td>PROCESS</td>\n",
       "      <td>0.001121</td>\n",
       "      <td>69</td>\n",
       "      <td>1</td>\n",
       "      <td>1</td>\n",
       "      <td>0.140244</td>\n",
       "    </tr>\n",
       "    <tr>\n",
       "      <td>2</td>\n",
       "      <td>BINDING</td>\n",
       "      <td>0.002139</td>\n",
       "      <td>62</td>\n",
       "      <td>1</td>\n",
       "      <td>1</td>\n",
       "      <td>0.126016</td>\n",
       "    </tr>\n",
       "    <tr>\n",
       "      <td>3</td>\n",
       "      <td>METABOLISM</td>\n",
       "      <td>0.001676</td>\n",
       "      <td>60</td>\n",
       "      <td>1</td>\n",
       "      <td>1</td>\n",
       "      <td>0.121951</td>\n",
       "    </tr>\n",
       "    <tr>\n",
       "      <td>4</td>\n",
       "      <td>OXIDOREDUCTASE</td>\n",
       "      <td>0.003545</td>\n",
       "      <td>45</td>\n",
       "      <td>1</td>\n",
       "      <td>1</td>\n",
       "      <td>0.091463</td>\n",
       "    </tr>\n",
       "  </tbody>\n",
       "</table>\n",
       "</div>"
      ],
      "text/plain": [
       "             kmer   hubness  count  k  community  count_fraction\n",
       "0        ACTIVITY  0.001924    158  1          1        0.321138\n",
       "1         PROCESS  0.001121     69  1          1        0.140244\n",
       "2         BINDING  0.002139     62  1          1        0.126016\n",
       "3      METABOLISM  0.001676     60  1          1        0.121951\n",
       "4  OXIDOREDUCTASE  0.003545     45  1          1        0.091463"
      ]
     },
     "execution_count": 19,
     "metadata": {},
     "output_type": "execute_result"
    }
   ],
   "source": [
    "kmers_query_for_web.head()"
   ]
  },
  {
   "cell_type": "markdown",
   "metadata": {},
   "source": [
    "### Example of querying for a specific process:"
   ]
  },
  {
   "cell_type": "code",
   "execution_count": 20,
   "metadata": {},
   "outputs": [],
   "source": [
    "search_term = \"CANCER\""
   ]
  },
  {
   "cell_type": "code",
   "execution_count": 21,
   "metadata": {},
   "outputs": [
    {
     "data": {
      "text/html": [
       "<div>\n",
       "<style scoped>\n",
       "    .dataframe tbody tr th:only-of-type {\n",
       "        vertical-align: middle;\n",
       "    }\n",
       "\n",
       "    .dataframe tbody tr th {\n",
       "        vertical-align: top;\n",
       "    }\n",
       "\n",
       "    .dataframe thead th {\n",
       "        text-align: right;\n",
       "    }\n",
       "</style>\n",
       "<table border=\"1\" class=\"dataframe\">\n",
       "  <thead>\n",
       "    <tr style=\"text-align: right;\">\n",
       "      <th></th>\n",
       "      <th>kmer</th>\n",
       "      <th>hubness</th>\n",
       "      <th>count</th>\n",
       "      <th>k</th>\n",
       "      <th>community</th>\n",
       "      <th>count_fraction</th>\n",
       "    </tr>\n",
       "  </thead>\n",
       "  <tbody>\n",
       "    <tr>\n",
       "      <td>959</td>\n",
       "      <td>CANCER</td>\n",
       "      <td>0.005943</td>\n",
       "      <td>14</td>\n",
       "      <td>1</td>\n",
       "      <td>10</td>\n",
       "      <td>0.028455</td>\n",
       "    </tr>\n",
       "    <tr>\n",
       "      <td>1970</td>\n",
       "      <td>CANCER</td>\n",
       "      <td>0.001090</td>\n",
       "      <td>4</td>\n",
       "      <td>1</td>\n",
       "      <td>20</td>\n",
       "      <td>0.008130</td>\n",
       "    </tr>\n",
       "  </tbody>\n",
       "</table>\n",
       "</div>"
      ],
      "text/plain": [
       "        kmer   hubness  count  k  community  count_fraction\n",
       "959   CANCER  0.005943     14  1         10        0.028455\n",
       "1970  CANCER  0.001090      4  1         20        0.008130"
      ]
     },
     "execution_count": 21,
     "metadata": {},
     "output_type": "execute_result"
    }
   ],
   "source": [
    "kmers_query_for_web[kmers_query_for_web[\"kmer\"]==search_term].sort_values([\"count_fraction\", \"hubness\"], ascending=[False, False])"
   ]
  }
 ],
 "metadata": {
  "kernelspec": {
   "display_name": "Python [conda env:root] *",
   "language": "python",
   "name": "conda-root-py"
  },
  "language_info": {
   "codemirror_mode": {
    "name": "ipython",
    "version": 3
   },
   "file_extension": ".py",
   "mimetype": "text/x-python",
   "name": "python",
   "nbconvert_exporter": "python",
   "pygments_lexer": "ipython3",
   "version": "3.7.4"
  }
 },
 "nbformat": 4,
 "nbformat_minor": 4
}
