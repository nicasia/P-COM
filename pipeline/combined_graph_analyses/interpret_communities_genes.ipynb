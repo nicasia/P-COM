{
 "cells": [
  {
   "cell_type": "markdown",
   "metadata": {},
   "source": [
    "### Overview:\n",
    "This notebook provides ways to identify whether a specific gene is overrepresented in any communities. The results from these analyses are presented on our webpage \"gene-level\" tab. There are two main methods we used:\n",
    "- Overrepresented genes (statistical test) - here, we use a one-way chi square test to identify whether there are communities that contain an above-random number of appearances of the gene (i.e, the gene is not evenly appearing across pathways among communities) \n",
    "- Fractional assignments - here, we just perform simple calculations to see what fraction communities contain each gene\n",
    "\n",
    "\n",
    "For examples of querying a gene, see the last section of the notebook titled \"Examples\". The user may try querying different genes by replacing \"APOE\" with other genes of interest."
   ]
  },
  {
   "cell_type": "code",
   "execution_count": 1,
   "metadata": {},
   "outputs": [],
   "source": [
    "import numpy as np\n",
    "import os\n",
    "import copy\n",
    "import numpy as np\n",
    "import pandas as pd\n",
    "from matplotlib import pyplot as plt\n",
    "from scipy.stats import chisquare\n",
    "import utils\n",
    "\n",
    "%matplotlib inline"
   ]
  },
  {
   "cell_type": "markdown",
   "metadata": {},
   "source": [
    "## Load gene sets"
   ]
  },
  {
   "cell_type": "code",
   "execution_count": 2,
   "metadata": {},
   "outputs": [],
   "source": [
    "acronym_to_folder = {\"KEGG\": \"c2.all.v7.0.symbols_JustK\", \"REACTOME\":\"c2.all.v7.0.symbols_JustR\",\n",
    "                  \"GO_BP\": \"c5.bp.v7.0.symbols_SHORT\", \"GO_CC\": \"c5.cc.v7.0.symbols\", \"GO_MF\": \"c5.mf.v7.0.symbols\"}\n",
    "folder_to_acronym = utils.reverse_dict(acronym_to_folder, assume_unique = True)\n",
    "\n",
    "pway_subfolders =  'c2.all.v7.0.symbols_JustK-c2.all.v7.0.symbols_JustR-c5.bp.v7.0.symbols_SHORT-c5.mf.v7.0.symbols'\n",
    "\n",
    "gsets_folders = pway_subfolders.split(\"-\")\n",
    "gsets_acronyms = [folder_to_acronym[x] for x in gsets_folders]"
   ]
  },
  {
   "cell_type": "code",
   "execution_count": 7,
   "metadata": {},
   "outputs": [
    {
     "name": "stdout",
     "output_type": "stream",
     "text": [
      "Number of true categories:  38\n",
      "[ 1.  3.  4.  5.  6.  7.  8.  9. 16. 17. 21. 22. 23. 24. 25. 26. 27. 28.\n",
      " 29. 30. 31. 32. 34. 35. 36. 37. 38. 39. 40. 41. 42. 43. 44. 45. 54. 55.\n",
      " 56. 57.]\n",
      "Number of true categories:  27\n",
      "[ 0.  1.  2.  3.  4.  5.  6.  7.  8.  9. 10. 11. 12. 13. 14. 15. 16. 17.\n",
      " 18. 19. 20. 21. 22. 23. 24. 25. 26.]\n",
      "Number of true categories:  64\n",
      "[ 0.  1.  2.  3.  4.  5.  6.  7.  8.  9. 10. 11. 12. 13. 14. 15. 16. 17.\n",
      " 18. 19. 20. 21. 22. 23. 24. 25. 26. 27. 28. 29. 30. 31. 32. 33. 34. 35.\n",
      " 36. 37. 38. 39. 40. 41. 42. 43. 44. 45. 46. 47. 48. 49. 50. 51. 52. 53.\n",
      " 54. 55. 56. 57. 58. 59. 60. 61. 62. 63.]\n",
      "Number of true categories:  69\n",
      "[ 0.  1.  2.  3.  4.  5.  6.  7.  8.  9. 10. 11. 12. 13. 14. 15. 16. 17.\n",
      " 18. 19. 20. 21. 22. 23. 24. 25. 26. 27. 28. 29. 30. 31. 32. 33. 34. 35.\n",
      " 36. 37. 38. 39. 40. 41. 42. 43. 44. 45. 46. 47. 48. 49. 50. 51. 52. 53.\n",
      " 54. 55. 56. 57. 58. 59. 60. 61. 62. 63. 64. 65. 66. 67. 68.]\n"
     ]
    }
   ],
   "source": [
    "pathways = {}\n",
    "pway_indices = {}\n",
    "cur_idx = 0\n",
    "for foldername in gsets_folders:\n",
    "    name = folder_to_acronym[foldername]\n",
    "    pathways[name] = np.loadtxt('../adj_matrices/%s/pathway_names.txt'%foldername, dtype=str)\n",
    "    pway_indices[name] = np.arange(cur_idx, cur_idx + len(pathways[name])).astype(int)\n",
    "    cur_idx += len(pathways[name])\n",
    "pathway_names = np.hstack([pathways[name] for name in gsets_acronyms])\n",
    "\n",
    "\n",
    "gmts, true_labels_unique, true_labels, true_labels_names= utils.load_curated_labels(pway_dbs=gsets_acronyms)\n",
    "pathway_names_curated_categories =  np.hstack([true_labels_names[name] for name in gsets_acronyms])"
   ]
  },
  {
   "cell_type": "markdown",
   "metadata": {},
   "source": [
    "## load community labels"
   ]
  },
  {
   "cell_type": "code",
   "execution_count": 8,
   "metadata": {},
   "outputs": [],
   "source": [
    "new_com_df = pd.read_csv(\"../Full_graph_louvain_with_weights_community_labels/0.4/labels.tsv\", delimiter=\"\\t\", names=[\"pathways\", \"com\"])\n",
    "new_com_df = new_com_df.merge(pd.DataFrame(pathway_names.reshape(len(pathway_names),1), columns=[\"pathways\"]), how=\"right\", on=\"pathways\")\n",
    "coms = new_com_df[\"com\"].values"
   ]
  },
  {
   "cell_type": "code",
   "execution_count": 9,
   "metadata": {},
   "outputs": [],
   "source": [
    "com_membership_for_appendix=new_com_df[[\"com\", \"pathways\"]].sort_values(\"com\")\n",
    "com_membership_for_appendix[\"com\"] += 1\n",
    "\n",
    "sizes=[]\n",
    "for com in np.unique(coms):\n",
    "    pway_idx = np.where(coms==com)\n",
    "    pways_in_com = pathway_names[pway_idx]\n",
    "    \n",
    "    sizes.append(len(pways_in_com)) "
   ]
  },
  {
   "cell_type": "markdown",
   "metadata": {},
   "source": [
    "# Overrepresented genes (statistical test)"
   ]
  },
  {
   "cell_type": "code",
   "execution_count": 10,
   "metadata": {},
   "outputs": [],
   "source": [
    "gmts_concat = pd.concat(list(gmts.values()))\n",
    "pways_gmts = pd.DataFrame(pathway_names, columns = [\"names\"]).merge(gmts_concat, on=\"names\", how=\"left\").reindex()\n",
    "total_genes, total_gene_counts = np.unique(np.hstack(pways_gmts[\"genes\"].values), return_counts=True)"
   ]
  },
  {
   "cell_type": "code",
   "execution_count": 11,
   "metadata": {},
   "outputs": [],
   "source": [
    "community_gene_counts = np.zeros([len(np.unique(coms)), len(total_genes)])\n",
    "for com in np.unique(coms):\n",
    "    pway_idx = np.where(coms==com)\n",
    "    pways_in_com = pathway_names[pway_idx]\n",
    "    \n",
    "    pways_gmts_com = pways_gmts.iloc[pway_idx]\n",
    "    \n",
    "    g, c  = np.unique(np.hstack(pways_gmts_com[\"genes\"].values), return_counts=True)\n",
    "    for i, g_name in enumerate(g):\n",
    "        community_gene_counts[com, np.where(total_genes==g_name)[0][0]] = c[i]"
   ]
  },
  {
   "cell_type": "code",
   "execution_count": 12,
   "metadata": {},
   "outputs": [],
   "source": [
    "total_genes_repeated = np.repeat(total_gene_counts.reshape(1,-1), len(sizes), axis=0) \n",
    "size_fracs = np.array(np.array(sizes) / sum(sizes))\n",
    "null_expected_counts = np.multiply(total_genes_repeated, size_fracs.reshape(-1,1))"
   ]
  },
  {
   "cell_type": "code",
   "execution_count": 13,
   "metadata": {
    "scrolled": true
   },
   "outputs": [
    {
     "name": "stdout",
     "output_type": "stream",
     "text": [
      "0\n",
      "10\n",
      "20\n",
      "30\n"
     ]
    }
   ],
   "source": [
    "# calculate \"# of pathways without gene\" for one way chi-square test -- observed & expected\n",
    "actual_not_gene = community_gene_counts.sum(axis=0) - community_gene_counts\n",
    "exp_not_gene = total_gene_counts - null_expected_counts\n",
    "\n",
    "num_coms, num_genes = community_gene_counts.shape\n",
    "\n",
    "chi_test_val = np.zeros([num_coms,num_genes])\n",
    "chi_test_pval = np.ones([num_coms,num_genes])\n",
    "\n",
    "for i in range(num_coms):\n",
    "    if i % 10==0:\n",
    "        print(i)\n",
    "    for j in range(num_genes):\n",
    "        \n",
    "        # One way chi square:\n",
    "        #   f_obs:  [ # pathways in community with gene,  # pathways in community without gene],\n",
    "        #   f_exp:  [expected pathways in community with gene,  expected pathways in community without gene]\n",
    "        #           we calculate f_exp so it's proportional to the size of the community\n",
    "\n",
    "        chi_test_val[i,j], chi_test_pval[i,j] = chisquare([community_gene_counts[i,j], actual_not_gene[i,j]], f_exp=[null_expected_counts[i,j], exp_not_gene[i,j]])"
   ]
  },
  {
   "cell_type": "code",
   "execution_count": 14,
   "metadata": {},
   "outputs": [],
   "source": [
    "df_rows = []\n",
    "sig_idxes = np.where(chi_test_pval * chi_test_pval.shape[0] * chi_test_pval.shape[1] < .05)\n",
    "for idx in range(len(sig_idxes[0])):\n",
    "    i = sig_idxes[0][idx]\n",
    "    j = sig_idxes[1][idx]\n",
    "    \n",
    "    # filter out \"lower than expected\" genes\n",
    "    if community_gene_counts[i,j] > null_expected_counts[i,j]:\n",
    "        df_rows.append([i+1,j, community_gene_counts[i,j], total_gene_counts[j], chi_test_val[i,j], chi_test_pval[i,j], size_fracs[i], sizes[i]])\n",
    "\n",
    "sig_genes_df = pd.DataFrame(np.array(df_rows), columns=[\"com\", \"gene_idx\", \"counts_in_com\", \"total_gene_appearances\", \"stat\", \"pval\", \"com_size_frac\", \"com_size\"] )\n",
    "sig_genes_df[\"gene\"] = sig_genes_df[\"gene_idx\"].apply(lambda x: total_genes[int(x)])"
   ]
  },
  {
   "cell_type": "code",
   "execution_count": 15,
   "metadata": {},
   "outputs": [],
   "source": [
    "def query_gene(g):\n",
    "    return sig_genes_df[sig_genes_df[\"gene\"]==g].sort_values(\"pval\")"
   ]
  },
  {
   "cell_type": "code",
   "execution_count": 16,
   "metadata": {},
   "outputs": [],
   "source": [
    "# sig_genes_df.to_csv(\"appendix_tables/significant_genes.csv\")"
   ]
  },
  {
   "cell_type": "markdown",
   "metadata": {},
   "source": [
    "### Format results for appendix tables"
   ]
  },
  {
   "cell_type": "code",
   "execution_count": 17,
   "metadata": {},
   "outputs": [],
   "source": [
    "# sig_genes_df = pd.read_csv(\"significant_genes.csv\", index_col=0)\n",
    "sig_genes_df[\"pval_corrected\"] = sig_genes_df[\"pval\"] * len(total_genes) * len(np.unique(coms))\n",
    "to_save = sig_genes_df[sig_genes_df[\"pval_corrected\"]<.01].sort_values([\"com\", \"pval_corrected\"])"
   ]
  },
  {
   "cell_type": "code",
   "execution_count": 18,
   "metadata": {},
   "outputs": [],
   "source": [
    "# to_save[[\"com\", \"gene\",'pval_corrected', \"counts_in_com\", \n",
    "#          \"com_size\", 'total_gene_appearances']].to_csv(\"appendix_tables/significantly_overrepresented_genes.csv\", index=False)"
   ]
  },
  {
   "cell_type": "markdown",
   "metadata": {},
   "source": [
    "# Fractional assignments\n",
    "- \"specificity\"(frac_gene_assignments[c,g]): what fraction of gene g's appearances are in community c\n",
    "- \"com_frequency\" (freq_normed_by_com_size[c,g]:  normalized version of \"specificity\" which takes the size of the communities into account\n"
   ]
  },
  {
   "cell_type": "code",
   "execution_count": 19,
   "metadata": {},
   "outputs": [],
   "source": [
    "frac_gene_assignments = community_gene_counts/total_gene_counts\n",
    "com_sizes = np.unique(coms, return_counts=True)[1]"
   ]
  },
  {
   "cell_type": "code",
   "execution_count": 20,
   "metadata": {},
   "outputs": [],
   "source": [
    "freq_normed_by_com_size = np.zeros(frac_gene_assignments.shape)\n",
    "for g_idx in range(len(total_genes)):\n",
    "    prop = frac_gene_assignments[:,g_idx] / com_sizes\n",
    "    freq_normed_by_com_size[:,g_idx] = prop/np.sum(prop)"
   ]
  },
  {
   "cell_type": "code",
   "execution_count": 21,
   "metadata": {},
   "outputs": [],
   "source": [
    "representative_genes = []\n",
    "\n",
    "for c in np.unique(coms):\n",
    "    sorted_gene_ids = np.argsort(frac_gene_assignments[c])[::-1]\n",
    "    \n",
    "    above0 =len(np.where(frac_gene_assignments[c] > 0)[0])\n",
    "    g_ids = sorted_gene_ids[:above0]\n",
    "\n",
    "    representative_genes.append(pd.DataFrame(np.vstack([total_genes[g_ids], freq_normed_by_com_size[c][g_ids], \n",
    "            frac_gene_assignments[c][g_ids], community_gene_counts[c][g_ids]]).T,\n",
    "            columns = [\"gene\", \"com_frequency\", \"specificity\", \"raw_count\"]))"
   ]
  },
  {
   "cell_type": "code",
   "execution_count": 22,
   "metadata": {},
   "outputs": [],
   "source": [
    "# SAVE ALL GENE-COMMUNITY STATISTICS\n",
    "\n",
    "frac_pways_w_gene = community_gene_counts/com_sizes.reshape(-1,1)\n",
    "frac_pways_w_gene_df = pd.DataFrame(frac_pways_w_gene, columns=total_genes)\n",
    "frac_pways_w_gene_df[\"community\"]=np.unique(coms)+1\n",
    "\n",
    "frac_gene_assignments_df =  pd.DataFrame(frac_gene_assignments, columns=total_genes)\n",
    "frac_gene_assignments_df[\"community\"]=np.unique(coms)+1\n",
    "\n",
    "frac_gene_assignments_normedbysize_df =  pd.DataFrame(freq_normed_by_com_size, columns=total_genes)\n",
    "frac_gene_assignments_normedbysize_df[\"community\"]=np.unique(coms)+1\n",
    "\n",
    "# if not os.path.isdir(\"appendix_tables/gene_level_info/\"):\n",
    "#     os.makedirs(\"appendix_tables/gene_level_info/\")\n",
    "    \n",
    "# frac_pways_w_gene_df.to_csv(\"appendix_tables/gene_level_info/frac_pways_w_gene.csv\", index=False)\n",
    "# frac_gene_assignments_df.to_csv(\"appendix_tables/gene_level_info/frac_gene_assignments.csv\", index=False)\n",
    "# frac_gene_assignments_normedbysize_df.to_csv(\"appendix_tables/gene_level_info/frac_gene_assignments_normedbysize.csv\", index=False)\n"
   ]
  },
  {
   "cell_type": "code",
   "execution_count": 23,
   "metadata": {},
   "outputs": [],
   "source": [
    "com_rep_genes = []\n",
    "for i,rg in enumerate(representative_genes):\n",
    "    rg[\"community\"] = i+1\n",
    "    rg['community_size'] = com_sizes[i]\n",
    "    com_rep_genes.append(rg)\n",
    "com_rep_genes = pd.concat(com_rep_genes, ignore_index=True)"
   ]
  },
  {
   "cell_type": "code",
   "execution_count": 24,
   "metadata": {
    "scrolled": true
   },
   "outputs": [],
   "source": [
    "def query_gene_nonstat(g) :\n",
    "    return com_rep_genes[com_rep_genes[\"gene\"]==g].sort_values(\"com_frequency\", ascending=False)"
   ]
  },
  {
   "cell_type": "markdown",
   "metadata": {},
   "source": [
    "## Examples\n",
    "- query_gene: gives communities with statistically significant over-representation of the gene\n",
    "- query_gene_nonstat: gives all communities sorted by frequency (normalized by community size)"
   ]
  },
  {
   "cell_type": "code",
   "execution_count": 25,
   "metadata": {},
   "outputs": [
    {
     "name": "stdout",
     "output_type": "stream",
     "text": [
      "0.883107 of genes have a query result\n"
     ]
    },
    {
     "data": {
      "image/png": "[encoded data removed]",
      "text/plain": [
       "<Figure size 432x288 with 1 Axes>"
      ]
     },
     "metadata": {
      "needs_background": "light"
     },
     "output_type": "display_data"
    }
   ],
   "source": [
    "plt.hist(sig_genes_df[\"com\"].value_counts())\n",
    "plt.title(\"Number of significant genes per community\")\n",
    "\n",
    "print(\"%f of genes have a query result\"%(len(np.unique(sig_genes_df[\"gene\"]))/len(total_genes)))"
   ]
  },
  {
   "cell_type": "code",
   "execution_count": 26,
   "metadata": {},
   "outputs": [
    {
     "data": {
      "text/html": [
       "<div>\n",
       "<style scoped>\n",
       "    .dataframe tbody tr th:only-of-type {\n",
       "        vertical-align: middle;\n",
       "    }\n",
       "\n",
       "    .dataframe tbody tr th {\n",
       "        vertical-align: top;\n",
       "    }\n",
       "\n",
       "    .dataframe thead th {\n",
       "        text-align: right;\n",
       "    }\n",
       "</style>\n",
       "<table border=\"1\" class=\"dataframe\">\n",
       "  <thead>\n",
       "    <tr style=\"text-align: right;\">\n",
       "      <th></th>\n",
       "      <th>com</th>\n",
       "      <th>gene_idx</th>\n",
       "      <th>counts_in_com</th>\n",
       "      <th>total_gene_appearances</th>\n",
       "      <th>stat</th>\n",
       "      <th>pval</th>\n",
       "      <th>com_size_frac</th>\n",
       "      <th>com_size</th>\n",
       "      <th>gene</th>\n",
       "      <th>pval_corrected</th>\n",
       "    </tr>\n",
       "  </thead>\n",
       "  <tbody>\n",
       "    <tr>\n",
       "      <td>17332</td>\n",
       "      <td>27.0</td>\n",
       "      <td>15742.0</td>\n",
       "      <td>22.0</td>\n",
       "      <td>193.0</td>\n",
       "      <td>93.560576</td>\n",
       "      <td>3.939569e-22</td>\n",
       "      <td>0.018981</td>\n",
       "      <td>92.0</td>\n",
       "      <td>TP53</td>\n",
       "      <td>2.432290e-16</td>\n",
       "    </tr>\n",
       "    <tr>\n",
       "      <td>10321</td>\n",
       "      <td>16.0</td>\n",
       "      <td>15742.0</td>\n",
       "      <td>24.0</td>\n",
       "      <td>193.0</td>\n",
       "      <td>72.011398</td>\n",
       "      <td>2.139580e-17</td>\n",
       "      <td>0.026408</td>\n",
       "      <td>128.0</td>\n",
       "      <td>TP53</td>\n",
       "      <td>1.320977e-11</td>\n",
       "    </tr>\n",
       "    <tr>\n",
       "      <td>16277</td>\n",
       "      <td>26.0</td>\n",
       "      <td>15742.0</td>\n",
       "      <td>29.0</td>\n",
       "      <td>193.0</td>\n",
       "      <td>51.922019</td>\n",
       "      <td>5.774918e-13</td>\n",
       "      <td>0.043945</td>\n",
       "      <td>213.0</td>\n",
       "      <td>TP53</td>\n",
       "      <td>3.565434e-07</td>\n",
       "    </tr>\n",
       "  </tbody>\n",
       "</table>\n",
       "</div>"
      ],
      "text/plain": [
       "        com  gene_idx  counts_in_com  total_gene_appearances       stat  \\\n",
       "17332  27.0   15742.0           22.0                   193.0  93.560576   \n",
       "10321  16.0   15742.0           24.0                   193.0  72.011398   \n",
       "16277  26.0   15742.0           29.0                   193.0  51.922019   \n",
       "\n",
       "               pval  com_size_frac  com_size  gene  pval_corrected  \n",
       "17332  3.939569e-22       0.018981      92.0  TP53    2.432290e-16  \n",
       "10321  2.139580e-17       0.026408     128.0  TP53    1.320977e-11  \n",
       "16277  5.774918e-13       0.043945     213.0  TP53    3.565434e-07  "
      ]
     },
     "execution_count": 26,
     "metadata": {},
     "output_type": "execute_result"
    }
   ],
   "source": [
    "query_gene(\"TP53\")"
   ]
  },
  {
   "cell_type": "code",
   "execution_count": 27,
   "metadata": {},
   "outputs": [
    {
     "data": {
      "text/html": [
       "<div>\n",
       "<style scoped>\n",
       "    .dataframe tbody tr th:only-of-type {\n",
       "        vertical-align: middle;\n",
       "    }\n",
       "\n",
       "    .dataframe tbody tr th {\n",
       "        vertical-align: top;\n",
       "    }\n",
       "\n",
       "    .dataframe thead th {\n",
       "        text-align: right;\n",
       "    }\n",
       "</style>\n",
       "<table border=\"1\" class=\"dataframe\">\n",
       "  <thead>\n",
       "    <tr style=\"text-align: right;\">\n",
       "      <th></th>\n",
       "      <th>gene</th>\n",
       "      <th>com_frequency</th>\n",
       "      <th>specificity</th>\n",
       "      <th>raw_count</th>\n",
       "      <th>community</th>\n",
       "      <th>community_size</th>\n",
       "    </tr>\n",
       "  </thead>\n",
       "  <tbody>\n",
       "    <tr>\n",
       "      <td>27533</td>\n",
       "      <td>APOE</td>\n",
       "      <td>0.25043762637775846</td>\n",
       "      <td>0.32934131736526945</td>\n",
       "      <td>55.0</td>\n",
       "      <td>9</td>\n",
       "      <td>183</td>\n",
       "    </tr>\n",
       "    <tr>\n",
       "      <td>66125</td>\n",
       "      <td>APOE</td>\n",
       "      <td>0.11260463299049091</td>\n",
       "      <td>0.11976047904191617</td>\n",
       "      <td>20.0</td>\n",
       "      <td>21</td>\n",
       "      <td>148</td>\n",
       "    </tr>\n",
       "    <tr>\n",
       "      <td>69909</td>\n",
       "      <td>APOE</td>\n",
       "      <td>0.07245863340257674</td>\n",
       "      <td>0.03592814371257485</td>\n",
       "      <td>6.0</td>\n",
       "      <td>22</td>\n",
       "      <td>69</td>\n",
       "    </tr>\n",
       "    <tr>\n",
       "      <td>75733</td>\n",
       "      <td>APOE</td>\n",
       "      <td>0.07183399001117523</td>\n",
       "      <td>0.029940119760479042</td>\n",
       "      <td>5.0</td>\n",
       "      <td>24</td>\n",
       "      <td>58</td>\n",
       "    </tr>\n",
       "    <tr>\n",
       "      <td>93282</td>\n",
       "      <td>APOE</td>\n",
       "      <td>0.06097128908265605</td>\n",
       "      <td>0.03592814371257485</td>\n",
       "      <td>6.0</td>\n",
       "      <td>29</td>\n",
       "      <td>82</td>\n",
       "    </tr>\n",
       "    <tr>\n",
       "      <td>60676</td>\n",
       "      <td>APOE</td>\n",
       "      <td>0.05318772026359358</td>\n",
       "      <td>0.017964071856287425</td>\n",
       "      <td>3.0</td>\n",
       "      <td>19</td>\n",
       "      <td>47</td>\n",
       "    </tr>\n",
       "    <tr>\n",
       "      <td>44882</td>\n",
       "      <td>APOE</td>\n",
       "      <td>0.04463969379265889</td>\n",
       "      <td>0.05389221556886228</td>\n",
       "      <td>9.0</td>\n",
       "      <td>14</td>\n",
       "      <td>168</td>\n",
       "    </tr>\n",
       "    <tr>\n",
       "      <td>59134</td>\n",
       "      <td>APOE</td>\n",
       "      <td>0.04006126366007849</td>\n",
       "      <td>0.029940119760479042</td>\n",
       "      <td>5.0</td>\n",
       "      <td>18</td>\n",
       "      <td>104</td>\n",
       "    </tr>\n",
       "    <tr>\n",
       "      <td>26520</td>\n",
       "      <td>APOE</td>\n",
       "      <td>0.038938050660263214</td>\n",
       "      <td>0.029940119760479042</td>\n",
       "      <td>5.0</td>\n",
       "      <td>8</td>\n",
       "      <td>107</td>\n",
       "    </tr>\n",
       "    <tr>\n",
       "      <td>73606</td>\n",
       "      <td>APOE</td>\n",
       "      <td>0.03787610382407421</td>\n",
       "      <td>0.011976047904191617</td>\n",
       "      <td>2.0</td>\n",
       "      <td>23</td>\n",
       "      <td>44</td>\n",
       "    </tr>\n",
       "    <tr>\n",
       "      <td>88716</td>\n",
       "      <td>APOE</td>\n",
       "      <td>0.03622931670128838</td>\n",
       "      <td>0.023952095808383235</td>\n",
       "      <td>4.0</td>\n",
       "      <td>27</td>\n",
       "      <td>92</td>\n",
       "    </tr>\n",
       "    <tr>\n",
       "      <td>95377</td>\n",
       "      <td>APOE</td>\n",
       "      <td>0.025639208742450237</td>\n",
       "      <td>0.011976047904191617</td>\n",
       "      <td>2.0</td>\n",
       "      <td>31</td>\n",
       "      <td>65</td>\n",
       "    </tr>\n",
       "    <tr>\n",
       "      <td>50702</td>\n",
       "      <td>APOE</td>\n",
       "      <td>0.022161550109830657</td>\n",
       "      <td>0.029940119760479042</td>\n",
       "      <td>5.0</td>\n",
       "      <td>15</td>\n",
       "      <td>188</td>\n",
       "    </tr>\n",
       "    <tr>\n",
       "      <td>18343</td>\n",
       "      <td>APOE</td>\n",
       "      <td>0.019683644506999196</td>\n",
       "      <td>0.017964071856287425</td>\n",
       "      <td>3.0</td>\n",
       "      <td>5</td>\n",
       "      <td>127</td>\n",
       "    </tr>\n",
       "    <tr>\n",
       "      <td>34673</td>\n",
       "      <td>APOE</td>\n",
       "      <td>0.015324584535717382</td>\n",
       "      <td>0.04790419161676647</td>\n",
       "      <td>8.0</td>\n",
       "      <td>11</td>\n",
       "      <td>435</td>\n",
       "    </tr>\n",
       "    <tr>\n",
       "      <td>39985</td>\n",
       "      <td>APOE</td>\n",
       "      <td>0.013571242412534733</td>\n",
       "      <td>0.029940119760479042</td>\n",
       "      <td>5.0</td>\n",
       "      <td>12</td>\n",
       "      <td>307</td>\n",
       "    </tr>\n",
       "    <tr>\n",
       "      <td>3161</td>\n",
       "      <td>APOE</td>\n",
       "      <td>0.013549175351701344</td>\n",
       "      <td>0.04790419161676647</td>\n",
       "      <td>8.0</td>\n",
       "      <td>1</td>\n",
       "      <td>492</td>\n",
       "    </tr>\n",
       "    <tr>\n",
       "      <td>53907</td>\n",
       "      <td>APOE</td>\n",
       "      <td>0.01301991068952551</td>\n",
       "      <td>0.011976047904191617</td>\n",
       "      <td>2.0</td>\n",
       "      <td>16</td>\n",
       "      <td>128</td>\n",
       "    </tr>\n",
       "    <tr>\n",
       "      <td>56804</td>\n",
       "      <td>APOE</td>\n",
       "      <td>0.01262536794135807</td>\n",
       "      <td>0.005988023952095809</td>\n",
       "      <td>1.0</td>\n",
       "      <td>17</td>\n",
       "      <td>66</td>\n",
       "    </tr>\n",
       "    <tr>\n",
       "      <td>83211</td>\n",
       "      <td>APOE</td>\n",
       "      <td>0.011736257522952572</td>\n",
       "      <td>0.017964071856287425</td>\n",
       "      <td>3.0</td>\n",
       "      <td>26</td>\n",
       "      <td>213</td>\n",
       "    </tr>\n",
       "    <tr>\n",
       "      <td>9406</td>\n",
       "      <td>APOE</td>\n",
       "      <td>0.01126046329904909</td>\n",
       "      <td>0.017964071856287425</td>\n",
       "      <td>3.0</td>\n",
       "      <td>3</td>\n",
       "      <td>222</td>\n",
       "    </tr>\n",
       "    <tr>\n",
       "      <td>31629</td>\n",
       "      <td>APOE</td>\n",
       "      <td>0.011110323788395103</td>\n",
       "      <td>0.017964071856287425</td>\n",
       "      <td>3.0</td>\n",
       "      <td>10</td>\n",
       "      <td>225</td>\n",
       "    </tr>\n",
       "    <tr>\n",
       "      <td>64364</td>\n",
       "      <td>APOE</td>\n",
       "      <td>0.006476225006188855</td>\n",
       "      <td>0.017964071856287425</td>\n",
       "      <td>3.0</td>\n",
       "      <td>20</td>\n",
       "      <td>386</td>\n",
       "    </tr>\n",
       "    <tr>\n",
       "      <td>12654</td>\n",
       "      <td>APOE</td>\n",
       "      <td>0.004603725326683053</td>\n",
       "      <td>0.005988023952095809</td>\n",
       "      <td>1.0</td>\n",
       "      <td>4</td>\n",
       "      <td>181</td>\n",
       "    </tr>\n",
       "  </tbody>\n",
       "</table>\n",
       "</div>"
      ],
      "text/plain": [
       "       gene         com_frequency           specificity raw_count  community  \\\n",
       "27533  APOE   0.25043762637775846   0.32934131736526945      55.0          9   \n",
       "66125  APOE   0.11260463299049091   0.11976047904191617      20.0         21   \n",
       "69909  APOE   0.07245863340257674   0.03592814371257485       6.0         22   \n",
       "75733  APOE   0.07183399001117523  0.029940119760479042       5.0         24   \n",
       "93282  APOE   0.06097128908265605   0.03592814371257485       6.0         29   \n",
       "60676  APOE   0.05318772026359358  0.017964071856287425       3.0         19   \n",
       "44882  APOE   0.04463969379265889   0.05389221556886228       9.0         14   \n",
       "59134  APOE   0.04006126366007849  0.029940119760479042       5.0         18   \n",
       "26520  APOE  0.038938050660263214  0.029940119760479042       5.0          8   \n",
       "73606  APOE   0.03787610382407421  0.011976047904191617       2.0         23   \n",
       "88716  APOE   0.03622931670128838  0.023952095808383235       4.0         27   \n",
       "95377  APOE  0.025639208742450237  0.011976047904191617       2.0         31   \n",
       "50702  APOE  0.022161550109830657  0.029940119760479042       5.0         15   \n",
       "18343  APOE  0.019683644506999196  0.017964071856287425       3.0          5   \n",
       "34673  APOE  0.015324584535717382   0.04790419161676647       8.0         11   \n",
       "39985  APOE  0.013571242412534733  0.029940119760479042       5.0         12   \n",
       "3161   APOE  0.013549175351701344   0.04790419161676647       8.0          1   \n",
       "53907  APOE   0.01301991068952551  0.011976047904191617       2.0         16   \n",
       "56804  APOE   0.01262536794135807  0.005988023952095809       1.0         17   \n",
       "83211  APOE  0.011736257522952572  0.017964071856287425       3.0         26   \n",
       "9406   APOE   0.01126046329904909  0.017964071856287425       3.0          3   \n",
       "31629  APOE  0.011110323788395103  0.017964071856287425       3.0         10   \n",
       "64364  APOE  0.006476225006188855  0.017964071856287425       3.0         20   \n",
       "12654  APOE  0.004603725326683053  0.005988023952095809       1.0          4   \n",
       "\n",
       "       community_size  \n",
       "27533             183  \n",
       "66125             148  \n",
       "69909              69  \n",
       "75733              58  \n",
       "93282              82  \n",
       "60676              47  \n",
       "44882             168  \n",
       "59134             104  \n",
       "26520             107  \n",
       "73606              44  \n",
       "88716              92  \n",
       "95377              65  \n",
       "50702             188  \n",
       "18343             127  \n",
       "34673             435  \n",
       "39985             307  \n",
       "3161              492  \n",
       "53907             128  \n",
       "56804              66  \n",
       "83211             213  \n",
       "9406              222  \n",
       "31629             225  \n",
       "64364             386  \n",
       "12654             181  "
      ]
     },
     "execution_count": 27,
     "metadata": {},
     "output_type": "execute_result"
    }
   ],
   "source": [
    "query_gene_nonstat(\"APOE\")"
   ]
  },
  {
   "cell_type": "code",
   "execution_count": null,
   "metadata": {},
   "outputs": [],
   "source": []
  }
 ],
 "metadata": {
  "kernelspec": {
   "display_name": "Python [conda env:root] *",
   "language": "python",
   "name": "conda-root-py"
  },
  "language_info": {
   "codemirror_mode": {
    "name": "ipython",
    "version": 3
   },
   "file_extension": ".py",
   "mimetype": "text/x-python",
   "name": "python",
   "nbconvert_exporter": "python",
   "pygments_lexer": "ipython3",
   "version": "3.7.4"
  }
 },
 "nbformat": 4,
 "nbformat_minor": 4
}
